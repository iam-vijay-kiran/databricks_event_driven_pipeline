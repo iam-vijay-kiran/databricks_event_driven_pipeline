{
 "cells": [
  {
   "cell_type": "code",
   "execution_count": 0,
   "metadata": {
    "application/vnd.databricks.v1+cell": {
     "cellMetadata": {
      "byteLimit": 2048000,
      "rowLimit": 10000
     },
     "inputWidgets": {},
     "nuid": "17eb27db-ed2e-4dc8-a568-247dd28f873e",
     "showTitle": false,
     "tableResultSettingsMap": {},
     "title": ""
    }
   },
   "outputs": [],
   "source": [
    "source_dir = \"/Volumes/incremental_data_load/default/orders_data/source/\"\n",
    "target_dir = \"/Volumes/incremental_data_load/default/orders_data/archive/\"\n",
    "stage_table = \"incremental_data_load.default.orders_stage\""
   ]
  },
  {
   "cell_type": "code",
   "execution_count": 0,
   "metadata": {
    "application/vnd.databricks.v1+cell": {
     "cellMetadata": {
      "byteLimit": 2048000,
      "rowLimit": 10000
     },
     "inputWidgets": {},
     "nuid": "e65f5f99-3722-4b50-98c4-e1e1b1f22706",
     "showTitle": false,
     "tableResultSettingsMap": {},
     "title": ""
    }
   },
   "outputs": [],
   "source": [
    "# Read CSV file from dbfs path under staging_zn folder\n",
    "df = spark.read.csv(source_dir, header =True, inferSchema= True)"
   ]
  },
  {
   "cell_type": "code",
   "execution_count": 0,
   "metadata": {
    "application/vnd.databricks.v1+cell": {
     "cellMetadata": {
      "byteLimit": 2048000,
      "rowLimit": 10000
     },
     "inputWidgets": {},
     "nuid": "69acdde5-0d23-49b2-bfb4-0812f7866240",
     "showTitle": false,
     "tableResultSettingsMap": {},
     "title": ""
    }
   },
   "outputs": [],
   "source": [
    "# Create Delta table named stage_zn if it doesn't exist and overwrite the data in stage table\n",
    "df.write.format(\"delta\").mode(\"overwrite\").saveAsTable(stage_table)"
   ]
  },
  {
   "cell_type": "code",
   "execution_count": 0,
   "metadata": {
    "application/vnd.databricks.v1+cell": {
     "cellMetadata": {
      "byteLimit": 2048000,
      "rowLimit": 10000
     },
     "inputWidgets": {},
     "nuid": "5f9af94f-6781-4ad3-bfa5-e2e0a6cbf95a",
     "showTitle": false,
     "tableResultSettingsMap": {},
     "title": ""
    }
   },
   "outputs": [],
   "source": [
    "# Move the source dir files to archive folder\n",
    "\n",
    "#List all the files in source dir\n",
    "files = dbutils.fs.ls(source_dir)\n",
    "\n",
    "# iterating over the files and move them to archive dir w.r.to their naming\n",
    "for file in files:\n",
    "    scr_file = file.path\n",
    "\n",
    "    # construct the target path\n",
    "    target_path = target_dir + scr_file.split(\"/\")[-1]\n",
    "\n",
    "    # move the files\n",
    "    dbutils.fs.mv(scr_file,target_path)"
   ]
  },
  {
   "cell_type": "code",
   "execution_count": 0,
   "metadata": {
    "application/vnd.databricks.v1+cell": {
     "cellMetadata": {
      "byteLimit": 2048000,
      "rowLimit": 10000
     },
     "inputWidgets": {},
     "nuid": "1c5e6776-91fd-49ad-b58d-f2545cc0d2f3",
     "showTitle": false,
     "tableResultSettingsMap": {},
     "title": ""
    }
   },
   "outputs": [],
   "source": []
  }
 ],
 "metadata": {
  "application/vnd.databricks.v1+notebook": {
   "computePreferences": null,
   "dashboards": [],
   "environmentMetadata": {
    "base_environment": "",
    "client": "1"
   },
   "language": "python",
   "notebookMetadata": {
    "mostRecentlyExecutedCommandWithImplicitDF": {
     "commandId": 6594666471039081,
     "dataframes": [
      "_sqldf"
     ]
    },
    "pythonIndentUnit": 4
   },
   "notebookName": "orders_stage_load",
   "widgets": {}
  },
  "language_info": {
   "name": "python"
  }
 },
 "nbformat": 4,
 "nbformat_minor": 0
}
